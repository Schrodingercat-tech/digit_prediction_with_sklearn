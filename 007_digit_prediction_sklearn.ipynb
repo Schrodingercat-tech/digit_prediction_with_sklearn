{
 "cells": [
  {
   "cell_type": "code",
   "execution_count": 1,
   "metadata": {},
   "outputs": [],
   "source": [
    "import pandas as pd # working with data frame\n",
    "from sklearn.datasets import load_digits # loading digit data set\n",
    "from sklearn.model_selection import train_test_split # to split data into test and train\n",
    "from sklearn.neighbors import KNeighborsClassifier # classification machine learning algo\n",
    "from sklearn.metrics import mean_absolute_error,accuracy_score # to find accuracy and error in our prediction\n",
    "import matplotlib.pyplot as plt #to plot the image of our data"
   ]
  },
  {
   "cell_type": "code",
   "execution_count": 2,
   "metadata": {},
   "outputs": [],
   "source": [
    "digits_data = load_digits() #create and object\n",
    "feature = digits_data.data # get feature data \n",
    "target = digits_data.target # get target variables\n",
    "df = pd.DataFrame(feature) # create panda data-frame\n",
    "df['Y'] = target # create Y to join in one data frame\n",
    "# create feature,target variable as x,y\n",
    "x = df.iloc[:,:-1]\n",
    "y = df.iloc[:,-1]"
   ]
  },
  {
   "cell_type": "code",
   "execution_count": 3,
   "metadata": {},
   "outputs": [],
   "source": [
    "xtrain,xtest,ytrain,ytest = train_test_split(x,y,train_size=0.9,random_state=1) # split data into train and test\n",
    "model = KNeighborsClassifier() # machine learning object\n",
    "model.fit(xtrain,ytrain) # fitting our trained data\n",
    "predicted = model.predict(xtest) # passing our test data to predict ytrain like data\n",
    "accuracy = accuracy_score(predicted,ytest) # get accuracy of our model. {accuracy : 1}\n",
    "mse = mean_absolute_error(predicted,ytest) # get mse error of our model. {mse : 0}"
   ]
  },
  {
   "cell_type": "code",
   "execution_count": 4,
   "metadata": {},
   "outputs": [
    {
     "name": "stdout",
     "output_type": "stream",
     "text": [
      "0\n"
     ]
    },
    {
     "data": {
      "image/png": "[encoded data removed]",
      "text/plain": [
       "<Figure size 640x480 with 1 Axes>"
      ]
     },
     "metadata": {},
     "output_type": "display_data"
    }
   ],
   "source": [
    "choose_row = 0 # around 1797 rows of data avaliable choose any row \n",
    "single_img = x.iloc[choose_row].values.reshape(1,-1) # get any row from digit data\n",
    "our_prediction = model.predict(single_img)[0]  # pass values to predict the outcome\n",
    "print(our_prediction) # ml predicted value\n",
    "#show the img of that specific col to match if our prediction is correct \n",
    "plt.imshow(digits_data.images[choose_row], cmap=plt.cm.gray_r,interpolation='nearest') \n",
    "plt.axis('off') \n",
    "plt.show()"
   ]
  }
 ],
 "metadata": {
  "kernelspec": {
   "display_name": "Python 3",
   "language": "python",
   "name": "python3"
  },
  "language_info": {
   "codemirror_mode": {
    "name": "ipython",
    "version": 3
   },
   "file_extension": ".py",
   "mimetype": "text/x-python",
   "name": "python",
   "nbconvert_exporter": "python",
   "pygments_lexer": "ipython3",
   "version": "3.11.3"
  },
  "orig_nbformat": 4
 },
 "nbformat": 4,
 "nbformat_minor": 2
}
